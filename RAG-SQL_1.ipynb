{
 "cells": [
  {
   "cell_type": "markdown",
   "id": "17d9dcca",
   "metadata": {},
   "source": [
    "# Installing and Importing the required libraries"
   ]
  },
  {
   "cell_type": "code",
   "execution_count": 1,
   "id": "0dd9abb2",
   "metadata": {},
   "outputs": [],
   "source": [
    "#pip install langchain langchain-experimental openai pymysql"
   ]
  },
  {
   "cell_type": "code",
   "execution_count": 2,
   "id": "fd4c4cd5",
   "metadata": {},
   "outputs": [],
   "source": [
    "from langchain.utilities import SQLDatabase\n",
    "from langchain.llms import OpenAI\n",
    "from langchain_experimental.sql import SQLDatabaseChain\n",
    "from langchain.prompts import PromptTemplate\n",
    "from langchain.prompts.chat import HumanMessagePromptTemplate\n",
    "from langchain.chat_models import ChatOpenAI\n",
    "from langchain.schema import HumanMessage,SystemMessage"
   ]
  },
  {
   "cell_type": "markdown",
   "id": "e35657da",
   "metadata": {},
   "source": [
    "# Using the OpenAI_API_KEY"
   ]
  },
  {
   "cell_type": "code",
   "execution_count": 3,
   "id": "26881e10",
   "metadata": {},
   "outputs": [
    {
     "name": "stderr",
     "output_type": "stream",
     "text": [
      "C:\\Users\\lavanya\\AppData\\Local\\Temp\\ipykernel_18792\\450203358.py:2: LangChainDeprecationWarning: The class `ChatOpenAI` was deprecated in LangChain 0.0.10 and will be removed in 1.0. An updated version of the class exists in the langchain-openai package and should be used instead. To use it run `pip install -U langchain-openai` and import as `from langchain_openai import ChatOpenAI`.\n",
      "  llm = ChatOpenAI(temperature=0,openai_api_key=OPENAI_API_KEY)\n"
     ]
    }
   ],
   "source": [
    "OPENAI_API_KEY = \"\"\n",
    "llm = ChatOpenAI(temperature=0,openai_api_key=OPENAI_API_KEY)"
   ]
  },
  {
   "cell_type": "markdown",
   "id": "8509630b",
   "metadata": {},
   "source": [
    "# Connecting to MYSQL WORKBENCH"
   ]
  },
  {
   "cell_type": "code",
   "execution_count": 4,
   "id": "0d738f6f",
   "metadata": {},
   "outputs": [],
   "source": [
    "host = 'localhost'\n",
    "port = '3306'\n",
    "username= 'root'\n",
    "password='root'\n",
    "database_schema = 'movies'\n",
    "mysql_uri = f\"mysql+pymysql://{username}:{password}@{host}:{port}/{database_schema}\"\n",
    "db = SQLDatabase.from_uri(mysql_uri,include_tables=['telugumovies_dataset'])\n",
    "db_chain = SQLDatabaseChain.from_llm(llm,db,verbose=True)"
   ]
  },
  {
   "cell_type": "markdown",
   "id": "4f10843b",
   "metadata": {},
   "source": [
    "# Creating two functions one for retrieving and one for generating"
   ]
  },
  {
   "cell_type": "code",
   "execution_count": 5,
   "id": "e1d6bacf",
   "metadata": {},
   "outputs": [],
   "source": [
    "def retrieve_from_db(query:str) -> str:\n",
    "    db_context = db_chain(query)\n",
    "    db_context = db_context['result'].strip()\n",
    "    return db_context"
   ]
  },
  {
   "cell_type": "code",
   "execution_count": 6,
   "id": "add4b0e0",
   "metadata": {},
   "outputs": [
    {
     "name": "stderr",
     "output_type": "stream",
     "text": [
      "C:\\Users\\lavanya\\AppData\\Local\\Temp\\ipykernel_18792\\2548019726.py:2: LangChainDeprecationWarning: The method `Chain.__call__` was deprecated in langchain 0.1.0 and will be removed in 1.0. Use invoke instead.\n",
      "  db_context = db_chain(query)\n"
     ]
    },
    {
     "name": "stdout",
     "output_type": "stream",
     "text": [
      "\n",
      "\n",
      "\u001b[1m> Entering new SQLDatabaseChain chain...\u001b[0m\n",
      "What is the total no of movies available in the table?\n",
      "SQLQuery:\u001b[32;1m\u001b[1;3mSELECT COUNT(`Movie`) AS TotalMovies FROM telugumovies_dataset;\u001b[0m\n",
      "SQLResult: \u001b[33;1m\u001b[1;3m[(1397,)]\u001b[0m\n",
      "Answer:\u001b[32;1m\u001b[1;3mTotal number of movies available in the table is 1397.\u001b[0m\n",
      "\u001b[1m> Finished chain.\u001b[0m\n"
     ]
    }
   ],
   "source": [
    "db_context = retrieve_from_db(\"What is the total no of movies available in the table?\")"
   ]
  },
  {
   "cell_type": "code",
   "execution_count": 7,
   "id": "86ae7f6b",
   "metadata": {},
   "outputs": [],
   "source": [
    "def generate(query: str) -> str:\n",
    "    db_context = retrieve_from_db(query)\n",
    "    system_message = \"\"\"You are a movie database expert specializing in Telugu Cinema. Your task is to answer users questions by providing relevant information from a database of Telugu movies.The database contains the following information for each movie:\n",
    "    -Name of the movie\n",
    "    -Year of release\n",
    "    -Certificate given by the censor board\n",
    "    -Movie genre\n",
    "    -A brief description or plot of the movie\n",
    "    -Duration in minutes\n",
    "    -IMDb Rating\n",
    "    -Number of people who rated the movie\"\"\"\n",
    "    human_qry_template = HumanMessagePromptTemplate.from_template(\"\"\"Input:{human_input} Context:{db_context} Output: \"\"\")\n",
    "    messages = [SystemMessage(content= system_message),human_qry_template.format(human_input=query,db_context=db_context)]\n",
    "    response = llm(messages).content\n",
    "    return response"
   ]
  },
  {
   "cell_type": "markdown",
   "id": "7f4d2a9f",
   "metadata": {},
   "source": [
    "# Using various prompts to generate SQL Queries and generate answers to the questions provided"
   ]
  },
  {
   "cell_type": "code",
   "execution_count": 8,
   "id": "7ebf8e9c",
   "metadata": {},
   "outputs": [
    {
     "name": "stdout",
     "output_type": "stream",
     "text": [
      "\n",
      "\n",
      "\u001b[1m> Entering new SQLDatabaseChain chain...\u001b[0m\n",
      "How many unique movies start with the letter B?\n",
      "SQLQuery:\u001b[32;1m\u001b[1;3mSELECT COUNT(DISTINCT `Movie`) AS UniqueMoviesStartingWithB\n",
      "FROM telugumovies_dataset\n",
      "WHERE `Movie` LIKE 'B%'\u001b[0m\n",
      "SQLResult: \u001b[33;1m\u001b[1;3m[(89,)]\u001b[0m\n",
      "Answer:\u001b[32;1m\u001b[1;3mThere are 89 unique movies that start with the letter B.\u001b[0m\n",
      "\u001b[1m> Finished chain.\u001b[0m\n"
     ]
    },
    {
     "name": "stderr",
     "output_type": "stream",
     "text": [
      "C:\\Users\\lavanya\\AppData\\Local\\Temp\\ipykernel_18792\\3939423401.py:14: LangChainDeprecationWarning: The method `BaseChatModel.__call__` was deprecated in langchain-core 0.1.7 and will be removed in 1.0. Use invoke instead.\n",
      "  response = llm(messages).content\n"
     ]
    },
    {
     "data": {
      "text/plain": [
       "'There are 89 unique movies in the database that start with the letter B.'"
      ]
     },
     "execution_count": 8,
     "metadata": {},
     "output_type": "execute_result"
    }
   ],
   "source": [
    "generate(\"How many unique movies start with the letter B?\")"
   ]
  },
  {
   "cell_type": "code",
   "execution_count": 9,
   "id": "b51c7e03",
   "metadata": {},
   "outputs": [
    {
     "name": "stdout",
     "output_type": "stream",
     "text": [
      "\n",
      "\n",
      "\u001b[1m> Entering new SQLDatabaseChain chain...\u001b[0m\n",
      "Tell me the name of the 2 movies which have highest runtime\n",
      "SQLQuery:\u001b[32;1m\u001b[1;3mSELECT `Movie`, `Runtime` \n",
      "FROM telugumovies_dataset \n",
      "ORDER BY `Runtime` DESC \n",
      "LIMIT 2;\u001b[0m\n",
      "SQLResult: \u001b[33;1m\u001b[1;3m[('Athidhi', 300), ('Veera', 240)]\u001b[0m\n",
      "Answer:\u001b[32;1m\u001b[1;3mThe names of the 2 movies with the highest runtime are 'Athidhi' and 'Veera'.\u001b[0m\n",
      "\u001b[1m> Finished chain.\u001b[0m\n"
     ]
    },
    {
     "data": {
      "text/plain": [
       "\"The names of the 2 movies with the highest runtime are 'Athidhi' and 'Veera'.\""
      ]
     },
     "execution_count": 9,
     "metadata": {},
     "output_type": "execute_result"
    }
   ],
   "source": [
    "generate(\"Tell me the name of the 2 movies which have highest runtime\")"
   ]
  },
  {
   "cell_type": "code",
   "execution_count": 11,
   "id": "b55db574",
   "metadata": {},
   "outputs": [
    {
     "name": "stdout",
     "output_type": "stream",
     "text": [
      "\n",
      "\n",
      "\u001b[1m> Entering new SQLDatabaseChain chain...\u001b[0m\n",
      "Tell me the name of the 2 movies which have highest ratings.Mention their ratings as well.\n",
      "SQLQuery:\u001b[32;1m\u001b[1;3mSELECT `Movie`, `Rating` \n",
      "FROM telugumovies_dataset \n",
      "ORDER BY `Rating` DESC \n",
      "LIMIT 2;\u001b[0m\n",
      "SQLResult: \u001b[33;1m\u001b[1;3m[('Pichhodu', 9.5), ('Maya Bazaar', 9.2)]\u001b[0m\n",
      "Answer:\u001b[32;1m\u001b[1;3mThe names of the 2 movies with the highest ratings are 'Pichhodu' with a rating of 9.5 and 'Maya Bazaar' with a rating of 9.2.\u001b[0m\n",
      "\u001b[1m> Finished chain.\u001b[0m\n"
     ]
    },
    {
     "data": {
      "text/plain": [
       "\"The names of the 2 movies with the highest ratings are 'Pichhodu' with a rating of 9.5 and 'Maya Bazaar' with a rating of 9.2.\""
      ]
     },
     "execution_count": 11,
     "metadata": {},
     "output_type": "execute_result"
    }
   ],
   "source": [
    "generate(\"Tell me the name of the 2 movies which have highest ratings.Mention their ratings as well.\")"
   ]
  },
  {
   "cell_type": "code",
   "execution_count": 13,
   "id": "0a8739c4",
   "metadata": {},
   "outputs": [
    {
     "name": "stdout",
     "output_type": "stream",
     "text": [
      "\n",
      "\n",
      "\u001b[1m> Entering new SQLDatabaseChain chain...\u001b[0m\n",
      "Tell me the name of the movie and its ratings which has highest ratings and certificate is U.\n",
      "SQLQuery:\u001b[32;1m\u001b[1;3mSELECT `Movie`, `Rating` \n",
      "FROM telugumovies_dataset \n",
      "WHERE `Certificate` = 'U' \n",
      "ORDER BY `Rating` DESC \n",
      "LIMIT 1;\u001b[0m\n",
      "SQLResult: \u001b[33;1m\u001b[1;3m[('Maya Bazaar', 9.2)]\u001b[0m\n",
      "Answer:\u001b[32;1m\u001b[1;3mMaya Bazaar with a rating of 9.2 has the highest rating and a certificate of U.\u001b[0m\n",
      "\u001b[1m> Finished chain.\u001b[0m\n"
     ]
    },
    {
     "data": {
      "text/plain": [
       "'The movie with the highest rating of 9.2 and a U certificate is \"Maya Bazaar\".'"
      ]
     },
     "execution_count": 13,
     "metadata": {},
     "output_type": "execute_result"
    }
   ],
   "source": [
    "generate(\"Tell me the name of the movie and its ratings which has highest ratings and certificate is U.\")"
   ]
  }
 ],
 "metadata": {
  "kernelspec": {
   "display_name": "Python 3 (ipykernel)",
   "language": "python",
   "name": "python3"
  },
  "language_info": {
   "codemirror_mode": {
    "name": "ipython",
    "version": 3
   },
   "file_extension": ".py",
   "mimetype": "text/x-python",
   "name": "python",
   "nbconvert_exporter": "python",
   "pygments_lexer": "ipython3",
   "version": "3.9.16"
  }
 },
 "nbformat": 4,
 "nbformat_minor": 5
}
